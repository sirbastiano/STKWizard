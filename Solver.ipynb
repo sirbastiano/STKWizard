{
 "cells": [
  {
   "cell_type": "code",
   "execution_count": 1,
   "metadata": {},
   "outputs": [],
   "source": [
    "from STKBridge.Pipe import Pipeline"
   ]
  },
  {
   "cell_type": "code",
   "execution_count": 2,
   "metadata": {},
   "outputs": [
    {
     "name": "stdout",
     "output_type": "stream",
     "text": [
      "Connection execution successfully\n",
      "STK initialized.\n"
     ]
    }
   ],
   "source": [
    "f = Pipeline()\n",
    "X = [6783,6737,132,78]\n",
    "# X0=[30,41,6815,6828,253,349]\n",
    "# parms: SELECT --> 0: WinMean || 1: WinMultiple || 2: Double Users || 3: Striano Mode\n",
    "#      CONE_ANGLE --> Coninc Angle of Transmitter/Receiver\n",
    "# score, nUsers, usersList, AccessDict  = f.genSol2(X, SELECT=2, CONE_ANGLE=60, reset=False)\n",
    "usersList, AccessDict  = f.createReport(X, reset=False)"
   ]
  },
  {
   "cell_type": "code",
   "execution_count": null,
   "metadata": {},
   "outputs": [],
   "source": [
    "import pandas as pd\n",
    "df = pd.DataFrame(AccessDict)\n",
    "df.to_csv('MaxUsers.csv')\n",
    "df.to_excel('MaxUsers.xlsx')"
   ]
  },
  {
   "cell_type": "code",
   "execution_count": null,
   "metadata": {},
   "outputs": [],
   "source": [
    "def checkUser(durations):\n",
    "     for win in durations:\n",
    "          if win > 360:\n",
    "               return True\n",
    "     return False\n",
    "\n",
    "def checkDoubleUser(durations):\n",
    "     goodWin = [d for d in durations if d > 360]\n",
    "     if len(goodWin) > 1:\n",
    "          return True\n",
    "     else:\n",
    "          return False\n",
    "\n",
    "servedUsersSingle = [x for x in usersList if (x[1:5] != \"seed\" and checkUser(AccessDict[x]['durations']))]\n",
    "servedUsersDouble = [y for y in servedUsersSingle if checkDoubleUser(AccessDict[y]['durations'])]"
   ]
  },
  {
   "cell_type": "code",
   "execution_count": null,
   "metadata": {},
   "outputs": [],
   "source": [
    "servedUsersDouble\n",
    "import pandas as pd\n",
    "df = pd.DataFrame(AccessDict)\n",
    "df2 = df[servedUsersDouble]\n",
    "df2.to_excel('ServedDouble.xlsx')"
   ]
  },
  {
   "cell_type": "code",
   "execution_count": null,
   "metadata": {},
   "outputs": [],
   "source": [
    "Dur =[max(AccessDict[x]['durations']) for x in servedUsersDouble]"
   ]
  },
  {
   "cell_type": "code",
   "execution_count": null,
   "metadata": {},
   "outputs": [],
   "source": [
    "import numpy as np \n",
    "\n",
    "mean = np.mean(Dur)\n",
    "print(f\"Mean dur:    {mean/60} min\")"
   ]
  },
  {
   "cell_type": "code",
   "execution_count": null,
   "metadata": {},
   "outputs": [],
   "source": []
  },
  {
   "cell_type": "code",
   "execution_count": null,
   "metadata": {},
   "outputs": [],
   "source": []
  },
  {
   "cell_type": "code",
   "execution_count": null,
   "metadata": {},
   "outputs": [],
   "source": []
  },
  {
   "cell_type": "code",
   "execution_count": null,
   "metadata": {},
   "outputs": [],
   "source": []
  },
  {
   "cell_type": "code",
   "execution_count": null,
   "metadata": {},
   "outputs": [],
   "source": []
  },
  {
   "cell_type": "code",
   "execution_count": null,
   "metadata": {},
   "outputs": [],
   "source": []
  },
  {
   "cell_type": "code",
   "execution_count": null,
   "metadata": {},
   "outputs": [],
   "source": []
  },
  {
   "cell_type": "markdown",
   "metadata": {},
   "source": [
    "# Problem Data Relais"
   ]
  },
  {
   "cell_type": "code",
   "execution_count": null,
   "metadata": {},
   "outputs": [],
   "source": [
    "import numpy as np\n",
    "from pymoo.core.problem import ElementwiseProblem\n",
    "\n",
    "class RelaisProblem(ElementwiseProblem):\n",
    "\n",
    "    def __init__(self):\n",
    "        super().__init__(n_var=6, n_obj=1, n_constr=0)\n",
    "\n",
    "    def _evaluate(self, x, out, *args, **kwargs):\n",
    "\n",
    "        sol = f.genSol(x)\n",
    "\n",
    "        out[\"F\"] = np.array([-sol[0]], dtype=float)"
   ]
  },
  {
   "cell_type": "markdown",
   "metadata": {},
   "source": [
    "# Sampling"
   ]
  },
  {
   "cell_type": "code",
   "execution_count": null,
   "metadata": {},
   "outputs": [],
   "source": [
    "from pymoo.core.sampling import Sampling\n",
    "\n",
    "class MySampling(Sampling):\n",
    "\n",
    "    def _do(self, problem, n_samples, **kwargs):\n",
    "         X = np.full((1, 6), None, dtype=object)\n",
    "         \n",
    "         X[0, 0] = np.random.randint(6428,6928) # a\n",
    "         X[0, 1] = np.random.randint(80,120)    # i\n",
    "         X[0, 2] = np.random.randint(60,100)    # RAAN\n",
    "         X[0, 3] = np.random.randint(1,3)      # NumPlanes\n",
    "         X[0, 4] = np.random.randint(1,4)      # NumSatxPlane\n",
    "         # MAX 150 SATELLITES CONDITION:\n",
    "         while(X[0, 3]*X[0, 4])>150:\n",
    "              X[0, 3] = np.random.randint(1,30)      # NumPlanes\n",
    "              X[0, 4] = np.random.randint(1,50)      # NumSatxPlane\n",
    "\n",
    "         X[0, 5] = np.random.random(1)[0]*10\n",
    "         \n",
    "         return X"
   ]
  },
  {
   "cell_type": "markdown",
   "metadata": {},
   "source": [
    "# Crossover"
   ]
  },
  {
   "cell_type": "code",
   "execution_count": null,
   "metadata": {},
   "outputs": [],
   "source": [
    "from pymoo.core.crossover import Crossover\n",
    "\n",
    "class MyCrossover(Crossover):\n",
    "    def __init__(self):\n",
    "\n",
    "        # define the crossover: number of parents and number of offsprings\n",
    "        super().__init__(2, 2)\n",
    "\n",
    "    def _do(self, problem, X, **kwargs):\n",
    "\n",
    "        # The input of has the following shape (n_parents, n_matings, n_var)\n",
    "        _, n_matings, n_var = X.shape\n",
    "\n",
    "        # The output owith the shape (n_offsprings, n_matings, n_var)\n",
    "        # Because there the number of parents and offsprings are equal it keeps the shape of X\n",
    "        Y = np.full_like(X, None, dtype=object)\n",
    "\n",
    "        # for each mating provided\n",
    "        for k in range(n_matings):\n",
    "\n",
    "            # get the first and the second parent\n",
    "            a, b = X[0, k, 0], X[1, k, 0]\n",
    "\n",
    "            print(a, b)\n",
    "            print(X)\n",
    "\n",
    "            # prepare the offsprings\n",
    "            off_a = np.zeros(6)\n",
    "            off_b = np.zeros(6)\n",
    "\n",
    "            for i in range(6):\n",
    "                if np.random.random() < 0.5:\n",
    "                    off_a[i] = a[i]\n",
    "                    off_b[i] = b[i]\n",
    "                else:\n",
    "                    off_a[i] = b[i]\n",
    "                    off_b[i] = a[i]\n",
    "\n",
    "            # join the character list and set the output\n",
    "            Y[0, k, 0], Y[1, k, 0] =list(off_a), list(off_b)\n",
    "\n",
    "        return Y"
   ]
  },
  {
   "cell_type": "markdown",
   "metadata": {},
   "source": [
    "# Mutation"
   ]
  },
  {
   "cell_type": "code",
   "execution_count": null,
   "metadata": {},
   "outputs": [],
   "source": [
    "from pymoo.core.mutation import Mutation\n",
    "\n",
    "class MyMutation(Mutation):\n",
    "    def __init__(self):\n",
    "        super().__init__()\n",
    "\n",
    "    def _do(self, problem, X, **kwargs):\n",
    "\n",
    "        # for each individual\n",
    "\n",
    "        # with a probabilty of 40% change semimajor axis\n",
    "        r = np.random.random()\n",
    "        if r < 0.4:\n",
    "            rand = np.random.randint(-50,50)\n",
    "            X[0, 0] += rand\n",
    "\n",
    "        # with a probabilty of 40% change inclination\n",
    "        r = np.random.random()\n",
    "        if r < 0.4:\n",
    "            rand = np.random.randint(-20,20)\n",
    "            X[0, 1] += rand\n",
    "\n",
    "        # with a probabilty of 40% change RAAN\n",
    "        r = np.random.random()\n",
    "        if r < 0.4:\n",
    "            rand = np.random.randint(-20,20)\n",
    "            X[0, 2] += rand\n",
    "\n",
    "\n",
    "        # with a probabilty of 40% change NumPlanes\n",
    "        r = np.random.random()\n",
    "        if r < 0.4:\n",
    "            rand = np.random.randint(1,5)\n",
    "            X[0, 3] += rand\n",
    "\n",
    "        # with a probabilty of 40% change NumSatsxPlane\n",
    "        r = np.random.random()\n",
    "        if r < 0.4:\n",
    "            rand = np.random.randint(1,5)\n",
    "            X[0, 4] += rand\n",
    "\n",
    "        # with a probabilty of 40% change RAANincrement\n",
    "        r = np.random.random()\n",
    "        if r < 0.4:\n",
    "            rand = np.random.random(1)[0]*5\n",
    "            X[0, 5] += rand\n",
    "\n",
    "       \n",
    "        return X"
   ]
  },
  {
   "cell_type": "code",
   "execution_count": null,
   "metadata": {},
   "outputs": [],
   "source": [
    "from pymoo.core.duplicate import ElementwiseDuplicateElimination\n",
    "\n",
    "class MyDuplicateElimination(ElementwiseDuplicateElimination):\n",
    "\n",
    "    def is_equal(self, a, b):\n",
    "        return a.X[0] == b.X[0]"
   ]
  },
  {
   "cell_type": "code",
   "execution_count": null,
   "metadata": {},
   "outputs": [],
   "source": [
    "from pymoo.algorithms.moo.nsga2 import NSGA2\n",
    "from pymoo.optimize import minimize\n",
    "\n",
    "\n",
    "algorithm = NSGA2(pop_size=50,\n",
    "                  sampling=MySampling(),\n",
    "                  crossover=MyCrossover(),\n",
    "                  mutation=MyMutation(),\n",
    "                  eliminate_duplicates=MyDuplicateElimination())\n",
    "\n",
    "res = minimize(RelaisProblem(),\n",
    "               algorithm,\n",
    "               ('n_gen', 100),\n",
    "               seed=1,\n",
    "               verbose=False)"
   ]
  }
 ],
 "metadata": {
  "kernelspec": {
   "display_name": "Python 3.8.12 ('py38')",
   "language": "python",
   "name": "python3"
  },
  "language_info": {
   "codemirror_mode": {
    "name": "ipython",
    "version": 3
   },
   "file_extension": ".py",
   "mimetype": "text/x-python",
   "name": "python",
   "nbconvert_exporter": "python",
   "pygments_lexer": "ipython3",
   "version": "3.8.12"
  },
  "orig_nbformat": 4,
  "vscode": {
   "interpreter": {
    "hash": "1c331d895cb3b0d0481b94c58437a41aaccc64325a2643299c2aab8455b4e435"
   }
  }
 },
 "nbformat": 4,
 "nbformat_minor": 2
}
